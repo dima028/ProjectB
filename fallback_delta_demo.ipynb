{
 "cells": [
  {
   "cell_type": "markdown",
   "metadata": {},
   "source": [
    "# Billboard_AI"
   ]
  },
  {
   "cell_type": "markdown",
   "metadata": {},
   "source": [
    "### Analytics Tool to Democritize Advertising for Clients & Aid Local, Toronto-based Small- and Medium-Sized Businesses in Competing against Large Businesses"
   ]
  },
  {
   "cell_type": "code",
   "execution_count": 1,
   "metadata": {},
   "outputs": [
    {
     "data": {
      "text/html": [
       "<script>\n",
       "code_show=true; \n",
       "function code_toggle() {\n",
       " if (code_show){\n",
       " $('div.input').hide();\n",
       " } else {\n",
       " $('div.input').show();\n",
       " }\n",
       " code_show = !code_show\n",
       "\n",
       "\n",
       "} \n",
       "$( document ).ready(code_toggle);\n",
       "</script>\n",
       "<form action=\"javascript:code_toggle()\"><input type=\"submit\" value=\"Click to toggle on/off raw code\"></form>"
      ],
      "text/plain": [
       "<IPython.core.display.HTML object>"
      ]
     },
     "execution_count": 1,
     "metadata": {},
     "output_type": "execute_result"
    }
   ],
   "source": [
    "import ipywidgets as widgets\n",
    "from IPython.display import display, Markdown\n",
    "from IPython.display import HTML\n",
    "\n",
    "\n",
    "\n",
    "#--- Calling Toggle ----\n",
    "# Hide or display code button definition\n",
    "HideShowCodeButton = HTML('''<script>\n",
    "code_show=true; \n",
    "function code_toggle() {\n",
    " if (code_show){\n",
    " $('div.input').hide();\n",
    " } else {\n",
    " $('div.input').show();\n",
    " }\n",
    " code_show = !code_show\n",
    "\n",
    "\n",
    "} \n",
    "$( document ).ready(code_toggle);\n",
    "</script>\n",
    "<form action=\"javascript:code_toggle()\"><input type=\"submit\" value=\"Click to toggle on/off raw code\"></form>''')\n",
    "\n",
    "# Display Hide or display code button\n",
    "HideShowCodeButton"
   ]
  },
  {
   "cell_type": "code",
   "execution_count": 2,
   "metadata": {},
   "outputs": [
    {
     "data": {
      "text/markdown": [
       "#### Please fill in the following information:"
      ],
      "text/plain": [
       "<IPython.core.display.Markdown object>"
      ]
     },
     "metadata": {},
     "output_type": "display_data"
    },
    {
     "data": {
      "application/vnd.jupyter.widget-view+json": {
       "model_id": "8e09a65e3b50448f933948c2513b7d69",
       "version_major": 2,
       "version_minor": 0
      },
      "text/plain": [
       "Text(value='', description='Company Name:', style=DescriptionStyle(description_width='initial'))"
      ]
     },
     "metadata": {},
     "output_type": "display_data"
    },
    {
     "data": {
      "application/vnd.jupyter.widget-view+json": {
       "model_id": "47b0dc4727e64bfc9e86116c772c4fbd",
       "version_major": 2,
       "version_minor": 0
      },
      "text/plain": [
       "RadioButtons(description='Product:', index=2, options=('Travel', 'Home Appliance', 'Gaming', 'Baby Products'),…"
      ]
     },
     "metadata": {},
     "output_type": "display_data"
    },
    {
     "data": {
      "application/vnd.jupyter.widget-view+json": {
       "model_id": "5a6b0fc8b32e43efb9936089df7478db",
       "version_major": 2,
       "version_minor": 0
      },
      "text/plain": [
       "IntSlider(value=700, continuous_update=False, description='Price:', max=1000, step=10)"
      ]
     },
     "metadata": {},
     "output_type": "display_data"
    },
    {
     "data": {
      "application/vnd.jupyter.widget-view+json": {
       "model_id": "050904b181cb47329c2133176163a975",
       "version_major": 2,
       "version_minor": 0
      },
      "text/plain": [
       "IntSlider(value=5000, continuous_update=False, description='Budget:', max=30000, step=100)"
      ]
     },
     "metadata": {},
     "output_type": "display_data"
    }
   ],
   "source": [
    "CompanyName = widgets.Text(\n",
    "    description = 'Company Name:',\n",
    "    style = {'description_width':'initial'}\n",
    ")\n",
    "\n",
    "\n",
    "Product = widgets.RadioButtons(\n",
    "    options=['Travel', 'Home Appliance', 'Gaming', 'Baby Products'],\n",
    "    value='Gaming',\n",
    "    description='Product:',\n",
    "    disabled=False\n",
    ")\n",
    "\n",
    "Price = widgets.IntSlider(\n",
    "    value=700,\n",
    "    min=0,\n",
    "    max=1000,\n",
    "    step=10,\n",
    "    description='Price:',\n",
    "    disabled=False,\n",
    "    continuous_update=False,\n",
    "    orientation='horizontal',\n",
    "    readout=True,\n",
    "    readout_format='d'\n",
    ")\n",
    "\n",
    "Budget = widgets.IntSlider(\n",
    "    value=5000,\n",
    "    min=0,\n",
    "    max=30000,\n",
    "    step=100,\n",
    "    description='Budget:',\n",
    "    disabled=False,\n",
    "    continuous_update=False,\n",
    "    orientation='horizontal',\n",
    "    readout=True,\n",
    "    readout_format='d'\n",
    ")\n",
    "\n",
    "display(Markdown('#### Please fill in the following information:'))\n",
    "display(CompanyName)\n",
    "display(Product)\n",
    "display(Price)\n",
    "display(Budget)"
   ]
  },
  {
   "cell_type": "code",
   "execution_count": 4,
   "metadata": {},
   "outputs": [
    {
     "data": {
      "text/plain": [
       "'SHERBOURNE ST and RICHMOND ST E'"
      ]
     },
     "execution_count": 4,
     "metadata": {},
     "output_type": "execute_result"
    }
   ],
   "source": [
    "if Product.value == 'Gaming':\n",
    "    age = 15\n",
    "    youth = 10\n",
    "    kid = 2\n",
    "elif Product.value == 'Travel':\n",
    "    age = 40\n",
    "    youth = 5\n",
    "    kid = 0\n",
    "elif Product.value == 'Home Appliance':\n",
    "    age = 55\n",
    "    youth = 5\n",
    "    kid = 2\n",
    "elif Product.value == 'Baby Products':\n",
    "    age = 30\n",
    "    youth = 18\n",
    "    kid = 2\n",
    "    \n",
    "veh = Budget.value\n",
    "ped = Budget.value * 0.6\n",
    "\n",
    "income = Price.value / 50\n",
    "\n",
    "\n",
    "import pandas as pd \n",
    "import matplotlib.pyplot as plt\n",
    "from sklearn.manifold import TSNE\n",
    "from sklearn.cluster import KMeans\n",
    "\n",
    "def ProjectB(veh, ped, age, income, kid, youth):\n",
    "    data = pd.read_csv(\"Downloads\\\\Data-Part1.csv\") \n",
    "    data = data.dropna()\n",
    "\n",
    "    data_trunc = data.loc[:,'Vehicle Traffic':'Percent of Youth']\n",
    "    #data_trunc_array=data_trunc.values\n",
    "        \n",
    "    #data_trunc_TSNE = TSNE(n_components=2).fit_transform(data_trunc)\n",
    "        \n",
    "    data_k = KMeans(n_clusters=80, random_state=0).fit(data_trunc)\n",
    "    \n",
    "    num = data_k.predict([[veh, ped, age, income, kid, youth]])[0]\n",
    "    \n",
    "    data_labels = pd.DataFrame(data_k.labels_)\n",
    "    \n",
    "    data_total = pd.concat([data_labels, data], axis=1)\n",
    "    \n",
    "    is_val = data_total[0]==num\n",
    "    data_total_fin = data_total[is_val]\n",
    "    return (data_total_fin['Intersection'].values[0]) \n",
    "\n",
    "ProjectB(veh, ped, age, income, kid, youth)"
   ]
  },
  {
   "cell_type": "markdown",
   "metadata": {},
   "source": [
    "##### End of Workflow"
   ]
  }
 ],
 "metadata": {
  "kernelspec": {
   "display_name": "Python 3",
   "language": "python",
   "name": "python3"
  },
  "language_info": {
   "codemirror_mode": {
    "name": "ipython",
    "version": 3
   },
   "file_extension": ".py",
   "mimetype": "text/x-python",
   "name": "python",
   "nbconvert_exporter": "python",
   "pygments_lexer": "ipython3",
   "version": "3.7.0"
  }
 },
 "nbformat": 4,
 "nbformat_minor": 2
}
