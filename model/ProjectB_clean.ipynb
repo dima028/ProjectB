{
 "cells": [
  {
   "cell_type": "code",
   "execution_count": 20,
   "metadata": {},
   "outputs": [],
   "source": [
    "import pandas as pd \n",
    "import matplotlib.pyplot as plt\n",
    "from sklearn.manifold import TSNE\n",
    "from sklearn.cluster import KMeans\n",
    "\n",
    "def ProjectB(veh, ped, age, income, kid, youth):\n",
    "    data = pd.read_csv(\"Downloads\\\\Data-Part1.csv\") \n",
    "    data = data.dropna()\n",
    "\n",
    "    data_trunc = data.loc[:,'Vehicle Traffic':'Percent of Youth']\n",
    "    #data_trunc_array=data_trunc.values\n",
    "        \n",
    "    #data_trunc_TSNE = TSNE(n_components=2).fit_transform(data_trunc)\n",
    "        \n",
    "    data_k = KMeans(n_clusters=80, random_state=0).fit(data_trunc)\n",
    "    \n",
    "    num = data_k.predict([[veh, ped, age, income, kid, youth]])[0]\n",
    "    \n",
    "    data_labels = pd.DataFrame(data_k.labels_)\n",
    "    \n",
    "    data_total = pd.concat([data_labels, data], axis=1)\n",
    "    \n",
    "    is_val = data_total[0]==num\n",
    "    data_total_fin = data_total[is_val]\n",
    "    return (data_total_fin['Intersection'].values)"
   ]
  },
  {
   "cell_type": "code",
   "execution_count": 21,
   "metadata": {},
   "outputs": [
    {
     "data": {
      "text/plain": [
       "array(['YONGE ST and ST CLAIR AVE', 'EGLINTON AVE E and BANFF RD',\n",
       "       'AVENUE RD and DUPONT ST', 'MOUNT PLEASANT RD and ELM AVE',\n",
       "       'KINGSTON RD and MIDLAND AVE', 'CHURCH ST and PARK RD',\n",
       "       'BLOOR ST W and CHRISTIE ST', 'MAIN ST and DANFORTH AVE'],\n",
       "      dtype=object)"
      ]
     },
     "execution_count": 21,
     "metadata": {},
     "output_type": "execute_result"
    }
   ],
   "source": [
    "ProjectB(15000, 2500, 40, 42010, 3, 12)"
   ]
  },
  {
   "cell_type": "code",
   "execution_count": null,
   "metadata": {},
   "outputs": [],
   "source": []
  },
  {
   "cell_type": "code",
   "execution_count": null,
   "metadata": {},
   "outputs": [],
   "source": []
  }
 ],
 "metadata": {
  "kernelspec": {
   "display_name": "Python 3",
   "language": "python",
   "name": "python3"
  },
  "language_info": {
   "codemirror_mode": {
    "name": "ipython",
    "version": 3
   },
   "file_extension": ".py",
   "mimetype": "text/x-python",
   "name": "python",
   "nbconvert_exporter": "python",
   "pygments_lexer": "ipython3",
   "version": "3.7.0"
  }
 },
 "nbformat": 4,
 "nbformat_minor": 2
}
